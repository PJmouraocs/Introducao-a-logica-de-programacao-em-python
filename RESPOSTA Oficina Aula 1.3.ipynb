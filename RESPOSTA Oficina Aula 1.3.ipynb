{
 "cells": [
  {
   "cell_type": "markdown",
   "metadata": {},
   "source": [
    "O que o cliente quer? Armazenar informações sobre os clientes (A) da clínica, estes dados são: A1) o nome, A2) a idade, A3) o endereço e o A4) telefone do cliente. Eos dados dos pets (B), que são: B1) o nome, B2)o tipo (cão ou gato, por exemplo), B3)a idade , B4)o peso e a B5) doença que ele tem no momento. "
   ]
  },
  {
   "cell_type": "code",
   "execution_count": null,
   "metadata": {},
   "outputs": [
    {
     "name": "stdout",
     "output_type": "stream",
     "text": [
      "`Programa para Clinica Veterinária da DELL \n",
      "Olá, qual é o seu nome? \n",
      "camelo\n",
      "Seja bem vindo(a) camelo ao programa de gerenciamento da Clinica Veterinária da DELL \n",
      "\n",
      "Por favor digite o nome cliente: \n",
      "eu\n",
      "Ok entendi, o nome do(a) cliente é eu. \n",
      "\n"
     ]
    }
   ],
   "source": [
    "#Um programa Python que faz a captação dos dados do cliente:\n",
    "# dados dos clientes da clínica\n",
    "\n",
    "# class cliente:\n",
    "  #  nome_cliente = ‘’\n",
    "  # idade_cliente = ‘’\n",
    "  # logradoro_cliente = ‘’\n",
    "  # tel_cliente  = ''\n",
    "  \n",
    "# depois vem o pet\n",
    "\n",
    "# class pet:\n",
    "  #  nome_pet = ‘’\n",
    "  # tipo_pet = ‘’\n",
    "  # idade_pet = ‘’\n",
    "  # peso_pet = ''\n",
    "  # doenca_pet = ''\n",
    "# Na teoria o programa básicamente pergunta e imprime os dados\n",
    "  \n",
    "\n",
    "# Programa para Clinica Veterinária da DELL\n",
    "\n",
    "\n",
    "print(\"`Programa para Clinica Veterinária da DELL \")\n",
    "nome_usuário = input(\"Olá, qual é o seu nome? \\n\")\n",
    "print(\"Seja bem vindo(a) \" +nome_usuário+\" ao programa de gerenciamento da Clinica Veterinária da DELL \\n\")\n",
    "#modulo client\n",
    "nome_cliente = input(\"Por favor digite o nome cliente: \\n\")\n",
    "print(\"Ok entendi, o nome do(a) cliente é \" +nome_cliente+\". \\n\")\n",
    "idade_cliente = input(\"Por favor digite a idade do cliente: \\n\")\n",
    "print(\"Ok entendi, a idade do(a) cliente é \" +idade_cliente+\". \\n\")\n",
    "logradoro_cliente = input(\"Qual o endereço do cliente? \\n\")\n",
    "print(\"Ok entendi, o endereço é \" +logradoro_cliente+\". \\n\")\n",
    "tel_cliente = input(\"Por favor digite telefone do cliente (somente números): \\n\")\n",
    "print(\"Ok entendi, o telefone é \" +tel_cliente+\". \\n\")\n",
    "\n",
    "#modulo pet\n",
    "nome_pet = input(\"Por favor digite o nome pet: \\n\")\n",
    "print(\"Ok entendi, o nome do(a) pet é \" +nome_pet+\". \\n\")\n",
    "tipo_pet = input(\"O pet é um catchorinho ou um gatinho? \\n\")\n",
    "print(\"Ok entendi, a idade do(a) bichinho é um \" +tipo_pet+\". \\n\")\n",
    "idade_pet = input(\"Qual á idade dele? \\n\")\n",
    "print(\"Ok entendi, a idade dele(a) é \" +idade_pet+\". \\n\")\n",
    "peso_pet = input(\"Por favor digite o peso do bichinho: \\n\")\n",
    "print(\"legal, o peso dele é \" +peso_pet+\". \\n\")\n",
    "doenca_pet = input(\"Por favor digite o nome da doença que aflige o pet: \\n\")\n",
    "print(\"Entendo, ele está doente de \" +doenca_pet+\". \\n\")\n",
    "print(\"Obrigado pela colaboração. \\n\")"
   ]
  },
  {
   "cell_type": "code",
   "execution_count": null,
   "metadata": {},
   "outputs": [],
   "source": []
  }
 ],
 "metadata": {
  "kernelspec": {
   "display_name": "Python 3",
   "language": "python",
   "name": "python3"
  },
  "language_info": {
   "codemirror_mode": {
    "name": "ipython",
    "version": 3
   },
   "file_extension": ".py",
   "mimetype": "text/x-python",
   "name": "python",
   "nbconvert_exporter": "python",
   "pygments_lexer": "ipython3",
   "version": "3.8.5"
  }
 },
 "nbformat": 4,
 "nbformat_minor": 4
}
