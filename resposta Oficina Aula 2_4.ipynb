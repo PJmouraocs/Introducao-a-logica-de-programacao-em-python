{
 "cells": [
  {
   "cell_type": "code",
   "execution_count": null,
   "metadata": {},
   "outputs": [],
   "source": [
    "#Código\n",
    "estoque = list()\n",
    "livro = dict()\n",
    "soma = media = 0\n",
    "\n",
    "print('-=-= Cadastro de Livros =-=-')\n",
    "print('')\n",
    "\n",
    "while True:\n",
    "    livro.clear()\n",
    "    livro['titulo'] = str(input('TÍTULO: '))\n",
    "    livro['genero'] = str(input('GÊNERO: '))\n",
    "    livro['subgenero'] = str(input('SUBGÊNERO: '))\n",
    "    livro['editora'] = str(input('EDITORA: '))\n",
    "    livro['copias'] = int(input('Número de CÓPIAS na loja: '))\n",
    "    livro['valor'] = float(input('VALOR R$:'))\n",
    "    soma += livro['valor']\n",
    "    estoque.append(livro.copy())\n",
    "\n",
    "    while True:\n",
    "        resp = str(input('Continua [S/N]: ')).upper()[0]\n",
    "        if resp in 'SN':\n",
    "            break\n",
    "        print('ERRO! Responda apenas S ou N')\n",
    "    if resp == 'N':\n",
    "        break\n",
    "\n",
    "print('-=' * 30)    \n",
    "print(f'{len(estoque)} livros cadastrados.')\n",
    "media = soma / len(estoque)\n",
    "print(f'Preço médio dos livros: R${media:5.2f}')\n",
    "print('-=' * 30) \n",
    "\n",
    "sorted_list = sorted(estoque, key=lambda k: (k['genero'], k['subgenero'], k['titulo'])) \n",
    "print(sorted_list)\n",
    "print()\n",
    "\n",
    "for e in estoque: #Formatado para apresentar\n",
    "    for k, v in e.items():\n",
    "        print(f' O campo {k} tem valor {v}')\n",
    "\n",
    "print()"
   ]
  }
 ],
 "metadata": {
  "kernelspec": {
   "display_name": "Python 3",
   "language": "python",
   "name": "python3"
  },
  "language_info": {
   "codemirror_mode": {
    "name": "ipython",
    "version": 3
   },
   "file_extension": ".py",
   "mimetype": "text/x-python",
   "name": "python",
   "nbconvert_exporter": "python",
   "pygments_lexer": "ipython3",
   "version": "3.8.5"
  }
 },
 "nbformat": 4,
 "nbformat_minor": 4
}
