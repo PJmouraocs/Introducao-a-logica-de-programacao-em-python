{
 "cells": [
  {
   "cell_type": "code",
   "execution_count": 2,
   "metadata": {},
   "outputs": [
    {
     "name": "stdout",
     "output_type": "stream",
     "text": [
      "Programa Caça-numeros primos da DELL\n",
      "[2, 3, 5, 7, 11, 13, 17, 19, 23, 29, 31, 37, 41, 43, 47, 53, 59, 61, 67, 71, 73, 79, 83, 89, 97]\n"
     ]
    }
   ],
   "source": [
    "\n",
    "# Um programa Python que apresente textualmente todos\n",
    "# os números primos entre 2 e 100 (incluindo o valor 100).\n",
    "\n",
    "#modelo a baixo aproximado\n",
    "#n = int(input(\"Verificar numeros primos ate: \"))\n",
    "#mult=0\n",
    "\n",
    "#for count in range(2,n):\n",
    "#    if (n % count == 0):\n",
    "#        print(\"Múltiplo de\",count)\n",
    "#        mult += 1\n",
    "#\n",
    "#if(mult==0):\n",
    "#    print(\"É primo\")\n",
    "#else:\n",
    "#    print(\"Tem\",mult,\" múltiplos acima de 2 e abaixo de\",n)\n",
    "# Na teoria o programa é basicamente sai testando um a um na range\n",
    "  \n",
    "\n",
    "print(\"Programa Caça-numeros primos da DELL\")\n",
    "\n",
    "primos=[]\n",
    "\n",
    "for x in range(2,101):\n",
    "    cont=0\n",
    "    \n",
    "    for y in range(1,x+1):\n",
    "        if x%y==0:\n",
    "            cont+=1\n",
    "            \n",
    "    if cont<=2:\n",
    "        primos.append(x)\n",
    "        \n",
    "print(primos)"
   ]
  },
  {
   "cell_type": "code",
   "execution_count": null,
   "metadata": {},
   "outputs": [],
   "source": []
  }
 ],
 "metadata": {
  "kernelspec": {
   "display_name": "Python 3",
   "language": "python",
   "name": "python3"
  },
  "language_info": {
   "codemirror_mode": {
    "name": "ipython",
    "version": 3
   },
   "file_extension": ".py",
   "mimetype": "text/x-python",
   "name": "python",
   "nbconvert_exporter": "python",
   "pygments_lexer": "ipython3",
   "version": "3.8.5"
  }
 },
 "nbformat": 4,
 "nbformat_minor": 4
}
